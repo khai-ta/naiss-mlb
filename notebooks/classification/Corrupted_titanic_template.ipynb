{
 "cells": [
  {
   "cell_type": "code",
   "execution_count": 37,
   "id": "4084fe0a-5bc2-4b5c-8850-efb2e3e96e87",
   "metadata": {},
   "outputs": [],
   "source": [
    "# Libary imports can go here. As always, you can import more as needed!\n",
    "import pandas as pd\n",
    "import numpy as np\n",
    "from sklearn.preprocessing import LabelEncoder\n",
    "from sklearn.ensemble import RandomForestClassifier\n",
    "from sklearn.model_selection import train_test_split\n",
    "from sklearn.metrics import accuracy_score, classification_report, confusion_matrix"
   ]
  },
  {
   "cell_type": "code",
   "execution_count": 38,
   "id": "28018514-9cc4-4327-9438-6a06c7d83e6f",
   "metadata": {
    "scrolled": true
   },
   "outputs": [],
   "source": [
    "# Loads the file\n",
    "file = \"corrupted_titanic_data.csv\"\n",
    "df = pd.read_csv(file)"
   ]
  },
  {
   "cell_type": "code",
   "execution_count": 39,
   "id": "d5459db6-fc1e-4d32-83cf-82b17ead58ff",
   "metadata": {
    "scrolled": true
   },
   "outputs": [],
   "source": [
    "# <------------ TODO ----------------------->\n",
    "# Drop all the rows with null values\n",
    "# (TIP: make sure to reset the index after dropping)\n",
    "df = df.dropna().reset_index(drop=True)"
   ]
  },
  {
   "cell_type": "code",
   "execution_count": 40,
   "id": "f171b4eb-1470-4820-8c33-4ff0d8db24de",
   "metadata": {},
   "outputs": [],
   "source": [
    "# <------------ TODO ----------------------->\n",
    "# Drop all the feature columns that you may think are not neccessary for the models evaluation\n",
    "# (HINT: around 6-8 columns!)\n",
    "unnecessary_columns = ['class', 'who', 'adult_male', 'deck', 'embark_town', 'alive', 'pclass_redundant', 'fare_age_combination']\n",
    "df = df.drop(columns=unnecessary_columns, errors='ignore')"
   ]
  },
  {
   "cell_type": "code",
   "execution_count": 41,
   "id": "2c8d824a-ffde-4972-94bc-4bb431c23338",
   "metadata": {},
   "outputs": [],
   "source": [
    "# <------------ TODO ----------------------->\n",
    "# Clean any relevant columns here\n",
    "# (TIP: Pay attention to the values in the column)\n",
    "df['sex'] = df['sex'].str.lower()\n",
    "df['age'] = pd.to_numeric(df['age'], errors='coerce')\n",
    "df['fare'] = pd.to_numeric(df['fare'], errors='coerce')"
   ]
  },
  {
   "cell_type": "code",
   "execution_count": 42,
   "id": "2cc2bc96-2e58-477c-aee3-b635f121291a",
   "metadata": {},
   "outputs": [],
   "source": [
    "# <------------ TODO ----------------------->\n",
    "# Encode all the text values to numeric ones\n",
    "# (TIP: Double check your final dataframe at this point before moving on)\n",
    "label_encoders = {}\n",
    "for column in df.select_dtypes(include=['object']).columns:\n",
    "    le = LabelEncoder()\n",
    "    df[column] = le.fit_transform(df[column])\n",
    "    label_encoders[column] = le"
   ]
  },
  {
   "cell_type": "code",
   "execution_count": 43,
   "id": "fc25a47e-015e-4660-b31a-6d5ade289a6c",
   "metadata": {},
   "outputs": [
    {
     "name": "stdout",
     "output_type": "stream",
     "text": [
      "Accuracy: 0.7917\n",
      "Classification Report:\n",
      "              precision    recall  f1-score   support\n",
      "\n",
      "           0       0.50      0.20      0.29         5\n",
      "           1       0.82      0.95      0.88        19\n",
      "\n",
      "    accuracy                           0.79        24\n",
      "   macro avg       0.66      0.57      0.58        24\n",
      "weighted avg       0.75      0.79      0.75        24\n",
      "\n",
      "Confusion Matrix:\n",
      "[[ 1  4]\n",
      " [ 1 18]]\n"
     ]
    }
   ],
   "source": [
    "# <------------ TODO ----------------------->\n",
    "# Create and train a classification model of your choosing\n",
    "x = df.drop(columns=['survived'])\n",
    "y = df['survived']\n",
    "x_train, x_test, y_train, y_test = train_test_split(x, y, test_size=0.2, random_state=42)\n",
    "\n",
    "model = RandomForestClassifier(n_estimators=100, random_state=42)\n",
    "model.fit(x_train, y_train)\n",
    "\n",
    "# Print the accuracy, classification report, and confusion matrix\n",
    "y_pred = model.predict(x_test)\n",
    "accuracy = accuracy_score(y_test, y_pred)\n",
    "report = classification_report(y_test, y_pred)\n",
    "conf_matrix = confusion_matrix(y_test, y_pred)\n",
    "\n",
    "print(f\"Accuracy: {accuracy:.4f}\")\n",
    "print(\"Classification Report:\")\n",
    "print(report)\n",
    "print(\"Confusion Matrix:\")\n",
    "print(conf_matrix)\n"
   ]
  }
 ],
 "metadata": {
  "kernelspec": {
   "display_name": "Python 3",
   "language": "python",
   "name": "python3"
  },
  "language_info": {
   "codemirror_mode": {
    "name": "ipython",
    "version": 3
   },
   "file_extension": ".py",
   "mimetype": "text/x-python",
   "name": "python",
   "nbconvert_exporter": "python",
   "pygments_lexer": "ipython3",
   "version": "3.12.4"
  }
 },
 "nbformat": 4,
 "nbformat_minor": 5
}
