{
  "cells": [
    {
      "cell_type": "markdown",
      "metadata": {
        "id": "view-in-github"
      },
      "source": [
        "<a href=\"https://colab.research.google.com/github/DS-Aditya-928/CartPoleProject4/blob/main/RL_Project4_template.ipynb\" target=\"_parent\"><img src=\"https://colab.research.google.com/assets/colab-badge.svg\" alt=\"Open In Colab\"/></a>"
      ]
    },
    {
      "cell_type": "code",
      "execution_count": 11,
      "metadata": {
        "id": "6YBUjQ96xxib"
      },
      "outputs": [],
      "source": [
        "'''\n",
        "\n",
        "Imports! The first 3 are for our cartpole simulation, numpy is for our bot, tqdm is a super easy way to\n",
        "draw progress bars, and the last one is used to play the video of the simulation.\n",
        "\n",
        "'''\n",
        "import gymnasium as gym\n",
        "from gym import logger as gymlogger\n",
        "from gym.wrappers import RecordVideo, RecordEpisodeStatistics\n",
        "\n",
        "import numpy as np\n",
        "from tqdm import tqdm\n",
        "\n",
        "import moviepy.editor"
      ]
    },
    {
      "cell_type": "markdown",
      "metadata": {
        "id": "Qz_KfKuDZdPV"
      },
      "source": [
        "#📌 Before we go any further:\n",
        "\n",
        "Let's have a look over what we're trying to accomplish.\n",
        "\n",
        "<br>\n",
        "\n",
        "Reinforcement learning is a machine learning algorithm where we let the algorithm make its own descisions in an attempt to maximize a \"reward\". This reward can be a high score in a game, or more relevant to our project here, the time our algorithm is able to balance a pole mounted on a cart for.\n",
        "\n",
        "\n",
        "To train our algorithm, we're going to be using something called Q learning.\n",
        "\n",
        "<br>\n",
        "\n",
        "\n",
        "---\n",
        "\n",
        "#📌 What is Q-learning?\n",
        "\n",
        "This bit is pretty complex, and this video explains Q learning better than I ever could :p\n",
        "\n",
        "https://www.youtube.com/watch?v=TiAXhVAZQl8  \n",
        "  \n",
        "<br>\n",
        "\n",
        "The basic idea however, is that we are going to maintain a table (appropriately called a Q table) that holds expected changes in score for all of our possible actions at a give state.\n",
        "\n",
        "<br>\n",
        "\n",
        "I.E, for the cart pole example, let's say the pole is 5 degrees off centre, and has a velocity of 1 m/s. Our algorithm is going to go to the corresponding cell in our table, and see which one of the possible actions (in the cartpole example, those are moving left or right) will result in the greatest increase in score. So, the cell holds an array with expected score changes for each action.\n",
        "\n",
        "Let's say the cell for the case described above has this array:  [-1.0, +2.5], with the first value corresponding to the expected change in score if we move to the left, and the other if we move to the right. Moving to the right gives us a score change of +2.5, so we're going to move to the right.\n",
        "\n",
        "\n",
        "<br>\n",
        "\n",
        "The training bit here involves having the model change these values in the q table so that it makes better and better decisions over time. We'll delve more into the specifics of how to accomplish this later.\n",
        "\n",
        "<br>\n",
        "Got all that? It's ok if you didn't. I'm still wrapping my head around it myself. Feel free to ask us questions during office hours and USE THE INTERNET. It can teach you anything if you use it right.  \n",
        "\n",
        "\n",
        "\n"
      ]
    },
    {
      "cell_type": "markdown",
      "metadata": {
        "id": "UTVEvKm8U9-p"
      },
      "source": [
        "\n",
        "\n",
        "---\n",
        "\n",
        "\n",
        "This here is the CartPoleBot class; all the functions you'll need to implement are in here.\n",
        "\n",
        "\n"
      ]
    },
    {
      "cell_type": "code",
      "execution_count": 4,
      "metadata": {
        "id": "E6Cd3AeUerbl"
      },
      "outputs": [],
      "source": [
        "from collections import defaultdict\n",
        "class CartPoleBot:\n",
        "\n",
        "  env:gym.Env\n",
        "  learningRate:float\n",
        "  discountFactor:float\n",
        "\n",
        "  def __init__(self, env: gym.Env, learningRate: float,\n",
        "               initalEpsilon: float, epsilonDecay: float, finalEpsilon: float,\n",
        "               discountFactor: float):\n",
        "    '''\n",
        "    Constructor. Don't change anything here. READ ALL THE COMMENTS THOUGH, they're hella useful.\n",
        "    '''\n",
        "    self.env = env #Our cartpole environment.\n",
        "\n",
        "    self.learningRate = learningRate #The rate at which we update values in our Q-table.\n",
        "\n",
        "    self.epsilon = initalEpsilon\n",
        "    self.epsilonDecay = epsilonDecay\n",
        "    self.finalEpsilon = finalEpsilon\n",
        "\n",
        "    '''\n",
        "    Does the word epsilon scare you? Fortunately, it's a fairly simple concept.\n",
        "\n",
        "    At first, the values in the Q-table are going to be very wrong, so it makes sense to\n",
        "    have the algorithm make random decisions instead, then take note of what happens and use that\n",
        "    information to update our Q-table. We'll get into how we update the Q-table later.\n",
        "\n",
        "    Whether or not our algorithm makes a random decision or looks up the Q-table value depends on epsilon.\n",
        "    Specifically, we are going to generate a random number between 0 and 1 and check if epsilon is higher than\n",
        "    it. If it is, we pick a random action. If epsilon is lower than the random value, we look up the Q-table value.\n",
        "\n",
        "    So, our initial epsilon is going to be a fairly high value (epsilon is between 0 and 1)\n",
        "    which means that we're going to make more random decisions at the start, but we're going to lower it over time\n",
        "    as our algorithm learns, preferring the values from the (hopefully now correct) Q-table.\n",
        "\n",
        "    Initial epsilon and final epsilon are both self explanatory, and epsilonDecay is the rate at which\n",
        "    epsilon decreases.\n",
        "    '''\n",
        "\n",
        "    self.qTable = defaultdict(lambda: np.zeros(self.env.action_space.n))\n",
        "\n",
        "    '''\n",
        "    the line above creates our Q table!\n",
        "    #The idea is this: when we look up the specific state we are at in the dictionary\n",
        "    #above, we'll have an array that has expected score changes for each action. (That's why each array\n",
        "    # is env.action_space.n long. the action_space holds all possible actions, and .n returns its length.)\n",
        "    #So if going left is action 0, then the value at index 0 in the aforementioned array is\n",
        "    #the expected score change from going left.\n",
        "    '''\n",
        "\n",
        "    self.discountFactor = discountFactor#we'll get into what this does later.\n",
        "\n",
        "  def discConv(self, obs):\n",
        "    '''\n",
        "    When we look up values in the Q-Table (represented as a dictionary), the key\n",
        "    will be the state of the simulation, which is a numpy array.\n",
        "\n",
        "    This sounds straightforward enough, but there are a few challenges:\n",
        "\n",
        "    1.) The simulation values take the form of a numpy array, which is non-hashable and thus\n",
        "    can't be used as a key for our dictionary.\n",
        "\n",
        "    2.) Because there are infinite number of numbers, it's highly unlikely that we will\n",
        "    run into the exact same values more than once (if at all). So, we shall generalise a bit\n",
        "    and break down each range of sim values into discrete chunks. I've chosen 10 chunks for\n",
        "    each here, but feel free to experiment.\n",
        "\n",
        "    This function takes a numpy array representing the simulation state and returns a\n",
        "    hashable tuple, with the values \"rounded\" to the closest chunk, keeping us from having multiple\n",
        "    Q-Table entries for values that are very close but not exactly the same.\n",
        "    '''\n",
        "    #DO NOT CHANGE.\n",
        "    posSpace = np.linspace(-2.4, 2.4, 10)\n",
        "    velSpace = np.linspace(-4, 4, 10)\n",
        "    angSpace = np.linspace(-.2095, .2095, 10)\n",
        "    angVSpace = np.linspace(-4, 4, 10)\n",
        "    lTodArray = [posSpace, velSpace, angSpace, angVSpace]\n",
        "    tR = []\n",
        "    for i in range(len(obs)):\n",
        "      tR += [np.digitize(obs[i], lTodArray[i])]\n",
        "\n",
        "    return(tuple(tR))\n",
        "\n",
        "  def getAction(self, observation):\n",
        "    #TO DO\n",
        "    '''\n",
        "    Your job here is to generate a random number, check if it's higher than epsilon and\n",
        "    then, based on that, choose a random action or look up the Q-table's reccomended action.\n",
        "\n",
        "    Use numpys random function to generate a random number.\n",
        "    Here's the gymnasium library documentation: https://gymnasium.farama.org/. It should tell you how to\n",
        "    get a random action.\n",
        "    '''\n",
        "\n",
        "    #Your code here.\n",
        "    random_num = np.random.random()\n",
        "    if random_num < self.epsilon:\n",
        "        return self.env.action_space.sample()\n",
        "    else:\n",
        "        state = self.discConv(observation)\n",
        "        return np.argmax(self.qTable[state])\n",
        "\n",
        "  def update(self, pastObv, action, reward, terminated, currObv):\n",
        "    '''\n",
        "    This is where we put everything we learned about Q-learning into practice.\n",
        "\n",
        "    Just so we're clear, when this function is called, we've already taken an action based on what getAction\n",
        "    returned, and we're now adjusting our q values based on how good/bad said action was.\n",
        "\n",
        "    First, let's go over inputs:\n",
        "    pastObv: State of the simulation(i.e angle of the pole, velocity etc.) BEFORE we took an action.\n",
        "    action: The action we TOOK (generated by getAction).\n",
        "    reward: the reward given to us by the environment.\n",
        "    terminated: Whether the simulation ended or not because we failed (truncated is when the simulation ends\n",
        "                because we balanced the pole for long enough).\n",
        "    currObv: The state of the simulation AFTER the action from getAction was taken.\n",
        "\n",
        "    In a broad sense, what we are trying to do here is calculate new values for a given\n",
        "    cell in the Q-Table, and then make a small adjustment to the existing values accordingly.\n",
        "\n",
        "    To do this, let's first calculate the temporal difference.\n",
        "\n",
        "    temporalDiff = (reward for the current state) + (max(qTable[currObv])) - qTable[pastObv][action]\n",
        "\n",
        "    The temporal difference is the difference between the q table value of the old position (before action),\n",
        "    and the value based on the reward and the maximum increase in score that we can obtain by making a move from\n",
        "    our new position (after the action) (NOTE: This value is 0 if the simulation ended!). Note that the\n",
        "    maximum increase from this point isn't given equal weightage. Instead, we shall multiply it\n",
        "    by the discontFactor before using it to calculate the temporalDiff. This is because we want our model to\n",
        "    make decisions that are better in the short term as opposed to a possible reward gain another move later.\n",
        "\n",
        "    The sum of the reward and max increase is what the q value should actually be,\n",
        "    so we adjust qTable[pastObv][action] by the temporal diff * learning rate.\n",
        "\n",
        "    Again, the video linked at the beginning is a must watch IMO, it'll make everything way easier to visualize.\n",
        "    '''\n",
        "    pastObv = self.discConv(pastObv)\n",
        "    currObv = self.discConv(currObv)\n",
        "\n",
        "    #Your code here:\n",
        "    if terminated:\n",
        "        future_q_value = 0\n",
        "    else:\n",
        "        future_q_value = np.max(self.qTable[currObv])\n",
        "\n",
        "    temporal_diff = reward + (self.discountFactor * future_q_value) - self.qTable[pastObv][action]\n",
        "    self.qTable[pastObv][action] += self.learningRate * temporal_diff\n",
        "\n",
        "  def decayEpsilon(self):\n",
        "    #TO DO\n",
        "    '''\n",
        "    This is pretty easy; when this function is called, you're going to decrease\n",
        "    epsilon by epsilonDecay. But remember, there is a minimum value that epsilon cannot drop below.\n",
        "    '''\n",
        "\n",
        "    #Your code here:\n",
        "    self.epsilon = max(self.finalEpsilon, self.epsilon - self.epsilonDecay)\n",
        "\n"
      ]
    },
    {
      "cell_type": "code",
      "execution_count": 5,
      "metadata": {
        "id": "d-okFDFJyJ-5",
        "colab": {
          "base_uri": "https://localhost:8080/"
        },
        "outputId": "21baa973-83ed-4fe4-fed0-d125b3240f6e"
      },
      "outputs": [
        {
          "output_type": "stream",
          "name": "stderr",
          "text": [
            "WARNING:py.warnings:/usr/local/lib/python3.11/dist-packages/gym/wrappers/record_video.py:78: UserWarning: \u001b[33mWARN: Overwriting existing videos at /content folder (try specifying a different `video_folder` for the `RecordVideo` wrapper if this is not desired)\u001b[0m\n",
            "  logger.warn(\n",
            "\n",
            "100%|██████████| 60000/60000 [1:19:44<00:00, 12.54it/s]\n"
          ]
        }
      ],
      "source": [
        "env = RecordVideo(gym.make(\"CartPole-v1\", render_mode = \"rgb_array\"), \"/content\", episode_trigger= lambda x: (x%5000 == 0), new_step_api= True)#Generate a .mp4 video of our simulation every 5000 episodes.\n",
        "\n",
        "#Hyperparameters\n",
        "#these values aren't.... great, but they do get the job done eventually. I definitely recommend fiddling with these.\n",
        "learningRate = 0.05\n",
        "nEps = 60_000\n",
        "startEpsilon = 1.0\n",
        "epsilonDecay = (1.0/30_000.0)\n",
        "finalEpsilon = 0.1\n",
        "discountFactor = 0.95\n",
        "\n",
        "#Initialize the bot.\n",
        "balanceAgent = CartPoleBot(env, learningRate, startEpsilon, epsilonDecay, finalEpsilon, discountFactor)\n",
        "\n",
        "for i in tqdm(range(nEps)):\n",
        "  observation, info = env.reset()#reset the environment at the start of every episode\n",
        "\n",
        "  done = False\n",
        "  while not done:#We're done once we either fail (terminated) or pass (truncated)\n",
        "    action = balanceAgent.getAction(observation)\n",
        "    newObv, reward, terminated, truncated, info = env.step(action)\n",
        "\n",
        "    balanceAgent.update(observation, action, reward, terminated, newObv)\n",
        "\n",
        "    done = terminated or truncated\n",
        "    observation = newObv\n",
        "\n",
        "  balanceAgent.decayEpsilon()#Epsilon is reduced every episode.\n",
        "\n",
        "env.close()\n"
      ]
    },
    {
      "cell_type": "code",
      "execution_count": 20,
      "metadata": {
        "id": "daKctNGlvixI",
        "colab": {
          "base_uri": "https://localhost:8080/",
          "height": 421
        },
        "outputId": "453ae8c4-da5c-4d57-a1c9-912228289a56"
      },
      "outputs": [
        {
          "output_type": "execute_result",
          "data": {
            "text/plain": [
              "<moviepy.video.io.html_tools.HTML2 object>"
            ],
            "text/html": [
              "<div align=middle><video src='data:video/mp4;base64,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' controls>Sorry, seems like your browser doesn't support HTML5 audio/video</video></div>"
            ]
          },
          "metadata": {},
          "execution_count": 20
        }
      ],
      "source": [
        "#call this to play one of the generated mp4s. Replace N with the episode count. Or just download it idk im not ur dad\n",
        "moviepy.editor.ipython_display(\"/content/rl-video-episode-5000.mp4\")"
      ]
    }
  ],
  "metadata": {
    "colab": {
      "gpuType": "T4",
      "provenance": []
    },
    "kernelspec": {
      "display_name": "Python 3",
      "name": "python3"
    },
    "language_info": {
      "name": "python",
      "version": "3.11.11"
    }
  },
  "nbformat": 4,
  "nbformat_minor": 0
}